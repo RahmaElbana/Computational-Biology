{
 "cells": [
  {
   "cell_type": "code",
   "execution_count": 1,
   "metadata": {},
   "outputs": [
    {
     "name": "stdout",
     "output_type": "stream",
     "text": [
      "Sequence>> DFPIANGER\n",
      "Prefix>> DFPIA\n",
      "Suffix>> NGER\n",
      "Concatenated>> DFPIANGER\n"
     ]
    }
   ],
   "source": [
    "from pyopenms import *\n",
    "Sequence = AASequence.fromString(\"DFPIANGER\")\n",
    "prefix = Sequence.getPrefix(5)\n",
    "suffix = Sequence.getSuffix(4)\n",
    "concatenate = prefix+suffix\n",
    "print(\"Sequence>>\", Sequence)\n",
    "print(\"Prefix>>\", prefix)\n",
    "print(\"Suffix>>\", suffix)\n",
    "print(\"Concatenated>>\",concatenate)\n"
   ]
  },
  {
   "cell_type": "code",
   "execution_count": 4,
   "metadata": {},
   "outputs": [],
   "source": [
    "MonoWeight = Sequence.getMonoWeight()\n",
    "mprecursor = Sequence.getMonoWeight(Residue.ResidueType.Full, 2)"
   ]
  },
  {
   "cell_type": "code",
   "execution_count": 5,
   "metadata": {},
   "outputs": [
    {
     "name": "stdout",
     "output_type": "stream",
     "text": [
      "Monoisotopic mass of peptide [M] is 1017.4879641373001\n",
      "Monoisotopic mass of peptide precursor [M+2H]2+ is 1019.5025170708419\n",
      "Monoisotopic m/z of [M+2H]2+ is 509.75125853542096\n"
     ]
    }
   ],
   "source": [
    "mz = Sequence.getMonoWeight(Residue.ResidueType.Full, 2) / 2.0\n",
    "mz = Sequence.getMZ(2)\n",
    "print(\"Monoisotopic mass of peptide [M] is\", MonoWeight)\n",
    "print(\"Monoisotopic mass of peptide precursor [M+2H]2+ is\", mprecursor)\n",
    "print(\"Monoisotopic m/z of [M+2H]2+ is\", mz)"
   ]
  },
  {
   "cell_type": "code",
   "execution_count": 6,
   "metadata": {},
   "outputs": [
    {
     "name": "stdout",
     "output_type": "stream",
     "text": [
      "the peptide DFPIANGER consists of the following amino acids>>\n",
      "Aspartate : 133.0375092233\n",
      "Phenylalanine : 165.0789793509\n",
      "Proline : 115.06332928709999\n",
      "Isoleucine : 131.0946294147\n",
      "Alanine : 89.0476792233\n",
      "Asparagine : 132.0534932552\n",
      "Glycine : 75.0320291595\n",
      "Glutamate : 147.0531592871\n",
      "Arginine : 174.1116764466\n"
     ]
    }
   ],
   "source": [
    "Sequence = AASequence.fromString(\"DFPIANGER\")\n",
    "print(\"the peptide\", str(Sequence), \"consists of the following amino acids>>\")\n",
    "for seq in Sequence:\n",
    "    print(seq.getName(), \":\", seq.getMonoWeight())"
   ]
  },
  {
   "cell_type": "code",
   "execution_count": 7,
   "metadata": {},
   "outputs": [
    {
     "name": "stdout",
     "output_type": "stream",
     "text": [
      "Peptide DFPIANGER has molecular formula C44H67N13O15\n"
     ]
    }
   ],
   "source": [
    "Sequence = AASequence.fromString(\"DFPIANGER\")\n",
    "Sequence_formula = Sequence.getFormula()\n",
    "print(\"Peptide\", Sequence, \"has molecular formula\", Sequence_formula)"
   ]
  },
  {
   "cell_type": "code",
   "execution_count": 8,
   "metadata": {},
   "outputs": [
    {
     "name": "stdout",
     "output_type": "stream",
     "text": [
      "Isotope 1017.4879641373001 has abundance 56.8165123462677 %\n",
      "Isotope 1018.4913189751001 has abundance 30.52913248538971 %\n",
      "Isotope 1019.4946738129 has abundance 9.802105277776718 %\n",
      "Isotope 1020.4980286507001 has abundance 2.3292062804102898 %\n",
      "Isotope 1021.5013834885001 has abundance 0.4492596257477999 %\n",
      "Isotope 1022.5047383263001 has abundance 0.07378292502835393 %\n"
     ]
    }
   ],
   "source": [
    "Isotopes = Sequence_formula.getIsotopeDistribution( CoarseIsotopePatternGenerator(6) )\n",
    "for iso in Isotopes.getContainer():\n",
    "    print (\"Isotope\", iso.getMZ(), \"has abundance\", iso.getIntensity()*100, \"%\")"
   ]
  },
  {
   "cell_type": "code",
   "execution_count": 9,
   "metadata": {},
   "outputs": [
    {
     "name": "stdout",
     "output_type": "stream",
     "text": [
      "Isotope 1017.4879641373001 has abundance 56.80969953536987 %\n",
      "Isotope 1018.4849991373001 has abundance 2.7278145775198936 %\n",
      "Isotope 1018.4913191373001 has abundance 27.035287022590637 %\n",
      "Isotope 1018.4921811373001 has abundance 0.3246041014790535 %\n",
      "Isotope 1018.4942408854 has abundance 0.4377691075205803 %\n",
      "Isotope 1019.4883541373001 has abundance 1.2981452979147434 %\n",
      "Isotope 1019.4922181373001 has abundance 1.7511537298560143 %\n",
      "Isotope 1019.4946741373 has abundance 6.286735832691193 %\n",
      "Isotope 1019.4975958854001 has abundance 0.2083308296278119 %\n",
      "Isotope 1020.4917091373001 has abundance 0.3018683288246393 %\n",
      "Isotope 1020.4955731373002 has abundance 0.833360105752945 %\n",
      "Isotope 1020.4980291373 has abundance 0.9519387967884541 %\n",
      "Isotope 1021.4989281373 has abundance 0.1937880413606763 %\n"
     ]
    }
   ],
   "source": [
    "fine_isotopes = Sequence_formula.getIsotopeDistribution( FineIsotopePatternGenerator(0.01) )\n",
    "for iso in fine_isotopes.getContainer():\n",
    "    print (\"Isotope\", iso.getMZ(), \"has abundance\", iso.getIntensity()*100, \"%\")"
   ]
  },
  {
   "cell_type": "code",
   "execution_count": 14,
   "metadata": {},
   "outputs": [
    {
     "data": {
      "image/png": "[encoded data removed]",
      "text/plain": [
       "<Figure size 720x504 with 1 Axes>"
      ]
     },
     "metadata": {
      "needs_background": "light"
     },
     "output_type": "display_data"
    }
   ],
   "source": [
    "import math\n",
    "from matplotlib import pyplot as plt\n",
    "\n",
    "def plotIsotopeDistribution(isotope_distribution, title=\"Isotope distribution\"):\n",
    "    plt.title(title)\n",
    "    distribution = {\"mass\": [], \"abundance\": []}\n",
    "    for iso in isotope_distribution.getContainer():\n",
    "        distribution[\"mass\"].append(iso.getMZ())\n",
    "        distribution[\"abundance\"].append(iso.getIntensity() * 100)\n",
    "\n",
    "    bars = plt.bar(distribution[\"mass\"], distribution[\"abundance\"], width=0.01, snap=False) # snap ensures that all bars are rendered\n",
    "\n",
    "    plt.ylim([0, 110])\n",
    "    plt.xticks(range(math.ceil(distribution[\"mass\"][0]) - 2,\n",
    "                     math.ceil(distribution[\"mass\"][-1]) + 2))\n",
    "    plt.xlabel(\"Atomic mass (u)\")\n",
    "    plt.ylabel(\"Relative abundance (%)\")\n",
    "\n",
    "plt.figure(figsize=(10,7))\n",
    "plt.subplot(1,2,1)\n",
    "\n",
    "plotIsotopeDistribution(fine_isotopes, \"Isotope distribution - fine structure\")\n",
    "plt.show()\n"
   ]
  },
  {
   "cell_type": "code",
   "execution_count": 16,
   "metadata": {},
   "outputs": [
    {
     "name": "stdout",
     "output_type": "stream",
     "text": [
      "Y3 ion sequence: GER\n",
      "Y3 m/z: 181.09514384957103\n",
      "Y3 molecular formula: C13H24N6O6\n"
     ]
    }
   ],
   "source": [
    "suffix = Sequence.getSuffix(3)\n",
    "print(\"Y3 ion sequence:\", suffix)\n",
    "Y3_formula = suffix.getFormula(Residue.ResidueType.YIon, 2)\n",
    "suffix.getMonoWeight(Residue.ResidueType.YIon, 2) / 2.0\n",
    "suffix.getMonoWeight(Residue.ResidueType.XIon, 2) / 2.0\n",
    "suffix.getMonoWeight(Residue.ResidueType.BIon, 2) / 2.0\n",
    "\n",
    "print(\"Y3 m/z:\", suffix.getMonoWeight(Residue.ResidueType.YIon, 2) / 2.0 )\n",
    "print(\"Y3 molecular formula:\", Y3_formula)"
   ]
  },
  {
   "cell_type": "code",
   "execution_count": 17,
   "metadata": {},
   "outputs": [],
   "source": [
    "bsa=FASTAEntry()\n",
    "bsa.sequence= \"MKWVTFISLLLLFSSAYSRGVFRRDTHKSEIAHRFKDLGE\"\n",
    "bsa.description = \"BSA Bovine Albumin (partial sequence)\"\n",
    "bsa.identifier = \"BSA\"\n",
    "\n",
    "alb = FASTAEntry()\n",
    "alb.sequence = \"MKWVTFISLLFLFSSAYSRGVFRRDAHKSEVAHRFKDLGE\"\n",
    "alb.description = \"ALB Human Albumin (partial sequence)\"\n",
    "alb.identifier = \"ALB\"\n",
    "\n",
    "entries=[bsa,alb]\n",
    "file=FASTAFile()\n",
    "file.store(\"example.fasta\",entries)"
   ]
  },
  {
   "cell_type": "code",
   "execution_count": 18,
   "metadata": {},
   "outputs": [
    {
     "name": "stdout",
     "output_type": "stream",
     "text": [
      "MKWVTFISLLLLFSSAYSRGVFRRDTHKSEIAHRFKDLGE BSA\n",
      "MKWVTFISLLFLFSSAYSRGVFRRDAHKSEVAHRFKDLGE ALB\n"
     ]
    }
   ],
   "source": [
    "entrie=[]\n",
    "file=FASTAFile()\n",
    "file.load(\"example.fasta\",entrie)\n",
    "for seq in entrie:\n",
    "    print(seq.sequence,seq.identifier)"
   ]
  },
  {
   "cell_type": "code",
   "execution_count": null,
   "metadata": {},
   "outputs": [],
   "source": []
  }
 ],
 "metadata": {
  "kernelspec": {
   "display_name": "Python 3",
   "language": "python",
   "name": "python3"
  },
  "language_info": {
   "codemirror_mode": {
    "name": "ipython",
    "version": 3
   },
   "file_extension": ".py",
   "mimetype": "text/x-python",
   "name": "python",
   "nbconvert_exporter": "python",
   "pygments_lexer": "ipython3",
   "version": "3.8.5"
  }
 },
 "nbformat": 4,
 "nbformat_minor": 4
}

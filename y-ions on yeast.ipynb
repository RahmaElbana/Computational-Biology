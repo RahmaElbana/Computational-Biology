{
 "cells": [
  {
   "cell_type": "code",
   "execution_count": null,
   "metadata": {},
   "outputs": [],
   "source": [
    "from pyopenms import *\n",
    "dig = ProteaseDigestion()\n",
    "dig.getEnzymeName()\n",
    "bsa = \"\".join([l.strip() for l in open(\"yeast.fasta\").readlines()[1:]])\n",
    "bsa = AASequence.fromString(bsa)\n",
    "result = []\n",
    "dig.digest(bsa, result)\n",
    "peptides = [AASequence.fromString(s.toString()) for s in result]\n",
    "\n",
    "for peptide in peptides:\n",
    "    tsg = TheoreticalSpectrumGenerator()\n",
    "    spec1 = MSSpectrum()  \n",
    "    p = Param()\n",
    "    p.setValue(\"add_b_ions\", \"false\")\n",
    "    p.setValue(\"add_metainfo\", \"true\")\n",
    "    tsg.setParameters(p)\n",
    "    tsg.getSpectrum(spec1, peptide, 1, 1) \n",
    "    print(\"Spectrum of\", peptide, \"has\", spec1.size(), \"peaks.\")\n",
    "    for ion, peak in zip(spec1.getStringDataArrays()[0], spec1):\n",
    "        print(ion.decode(), \"is generated at m/z\", peak.getMZ())\n",
    "\n"
   ]
  }
 ],
 "metadata": {
  "kernelspec": {
   "display_name": "Python 3",
   "language": "python",
   "name": "python3"
  },
  "language_info": {
   "codemirror_mode": {
    "name": "ipython",
    "version": 3
   },
   "file_extension": ".py",
   "mimetype": "text/x-python",
   "name": "python",
   "nbconvert_exporter": "python",
   "pygments_lexer": "ipython3",
   "version": "3.8.5"
  }
 },
 "nbformat": 4,
 "nbformat_minor": 4
}
